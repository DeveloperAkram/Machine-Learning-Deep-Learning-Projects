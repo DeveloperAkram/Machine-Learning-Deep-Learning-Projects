{
 "cells": [
  {
   "cell_type": "code",
   "execution_count": 1,
   "metadata": {},
   "outputs": [
    {
     "name": "stdout",
     "output_type": "stream",
     "text": [
      "[17, 15, 4]\n",
      "[10, 12, 9]\n",
      "[11, 13, 18]\n"
     ]
    }
   ],
   "source": [
    "# Program to add two matrices using nested loop\n",
    "\n",
    "X = [[12,7,3],\n",
    "    [4 ,5,6],\n",
    "    [7 ,8,9]]\n",
    "\n",
    "Y = [[5,8,1],\n",
    "    [6,7,3],\n",
    "    [4,5,9]]\n",
    "\n",
    "result = [[0,0,0],\n",
    "         [0,0,0],\n",
    "         [0,0,0]]\n",
    "\n",
    "# iterate through rows\n",
    "for i in range(len(X)):\n",
    "   # iterate through columns\n",
    "   for j in range(len(X[0])):\n",
    "       result[i][j] = X[i][j] + Y[i][j]\n",
    "\n",
    "for r in result:\n",
    "   print(r)"
   ]
  },
  {
   "cell_type": "code",
   "execution_count": 2,
   "metadata": {},
   "outputs": [
    {
     "name": "stdout",
     "output_type": "stream",
     "text": [
      "[12, 4, 3]\n",
      "[7, 5, 8]\n"
     ]
    }
   ],
   "source": [
    "# Program to transpose a matrix using a nested loop\n",
    "\n",
    "X = [[12,7],\n",
    "    [4 ,5],\n",
    "    [3 ,8]]\n",
    "\n",
    "result = [[0,0,0],\n",
    "         [0,0,0]]\n",
    "\n",
    "# iterate through rows\n",
    "for i in range(len(X)):\n",
    "   # iterate through columns\n",
    "   for j in range(len(X[0])):\n",
    "       result[j][i] = X[i][j]\n",
    "\n",
    "for r in result:\n",
    "   print(r)"
   ]
  },
  {
   "cell_type": "code",
   "execution_count": 3,
   "metadata": {},
   "outputs": [
    {
     "name": "stdout",
     "output_type": "stream",
     "text": [
      "[114, 160, 60, 27]\n",
      "[74, 97, 73, 14]\n",
      "[119, 157, 112, 23]\n"
     ]
    }
   ],
   "source": [
    "# Program to multiply two matrices using nested loops\n",
    "\n",
    "# 3x3 matrix\n",
    "X = [[12,7,3],\n",
    "    [4 ,5,6],\n",
    "    [7 ,8,9]]\n",
    "# 3x4 matrix\n",
    "Y = [[5,8,1,2],\n",
    "    [6,7,3,0],\n",
    "    [4,5,9,1]]\n",
    "# result is 3x4\n",
    "result = [[0,0,0,0],\n",
    "         [0,0,0,0],\n",
    "         [0,0,0,0]]\n",
    "\n",
    "# iterate through rows of X\n",
    "for i in range(len(X)):\n",
    "   # iterate through columns of Y\n",
    "   for j in range(len(Y[0])):\n",
    "       # iterate through rows of Y\n",
    "       for k in range(len(Y)):\n",
    "           result[i][j] += X[i][k] * Y[k][j]\n",
    "\n",
    "for r in result:\n",
    "   print(r)"
   ]
  },
  {
   "cell_type": "code",
   "execution_count": 4,
   "metadata": {},
   "outputs": [
    {
     "name": "stdout",
     "output_type": "stream",
     "text": [
      "The string is a palindrome.\n"
     ]
    }
   ],
   "source": [
    "# Program to check if a string is palindrome or not\n",
    "\n",
    "my_str = 'aIbohPhoBiA'\n",
    "\n",
    "# make it suitable for caseless comparison\n",
    "my_str = my_str.casefold()\n",
    "\n",
    "# reverse the string\n",
    "rev_str = reversed(my_str)\n",
    "\n",
    "# check if the string is equal to its reverse\n",
    "if list(my_str) == list(rev_str):\n",
    "   print(\"The string is a palindrome.\")\n",
    "else:\n",
    "   print(\"The string is not a palindrome.\")"
   ]
  },
  {
   "cell_type": "code",
   "execution_count": 5,
   "metadata": {},
   "outputs": [
    {
     "name": "stdout",
     "output_type": "stream",
     "text": [
      "Hello he said and went\n"
     ]
    }
   ],
   "source": [
    "# define punctuation\n",
    "punctuations = '''!()-[]{};:'\"\\,<>./?@#$%^&*_~'''\n",
    "\n",
    "my_str = \"Hello!!!, he said ---and went.\"\n",
    "\n",
    "# To take input from the user\n",
    "# my_str = input(\"Enter a string: \")\n",
    "\n",
    "# remove punctuation from the string\n",
    "no_punct = \"\"\n",
    "for char in my_str:\n",
    "   if char not in punctuations:\n",
    "       no_punct = no_punct + char\n",
    "\n",
    "# display the unpunctuated string\n",
    "print(no_punct)"
   ]
  },
  {
   "cell_type": "code",
   "execution_count": 6,
   "metadata": {},
   "outputs": [
    {
     "name": "stdout",
     "output_type": "stream",
     "text": [
      "The sorted words are:\n",
      "an\n",
      "cased\n",
      "example\n",
      "hello\n",
      "is\n",
      "letters\n",
      "this\n",
      "with\n"
     ]
    }
   ],
   "source": [
    "# Program to sort alphabetically the words form a string provided by the user\n",
    "\n",
    "my_str = \"Hello this Is an Example With cased letters\"\n",
    "\n",
    "# To take input from the user\n",
    "#my_str = input(\"Enter a string: \")\n",
    "\n",
    "# breakdown the string into a list of words\n",
    "words = [word.lower() for word in my_str.split()]\n",
    "\n",
    "# sort the list\n",
    "words.sort()\n",
    "\n",
    "# display the sorted words\n",
    "\n",
    "print(\"The sorted words are:\")\n",
    "for word in words:\n",
    "   print(word)"
   ]
  },
  {
   "cell_type": "code",
   "execution_count": 7,
   "metadata": {},
   "outputs": [
    {
     "name": "stdout",
     "output_type": "stream",
     "text": [
      "Union of E and N is {0, 1, 2, 3, 4, 5, 6, 8}\n",
      "Intersection of E and N is {2, 4}\n",
      "Difference of E and N is {0, 8, 6}\n",
      "Symmetric difference of E and N is {0, 1, 3, 5, 6, 8}\n"
     ]
    }
   ],
   "source": [
    "# Program to perform different set operations like in mathematics\n",
    "\n",
    "# define three sets\n",
    "E = {0, 2, 4, 6, 8};\n",
    "N = {1, 2, 3, 4, 5};\n",
    "\n",
    "# set union\n",
    "print(\"Union of E and N is\",E | N)\n",
    "\n",
    "# set intersection\n",
    "print(\"Intersection of E and N is\",E & N)\n",
    "\n",
    "# set difference\n",
    "print(\"Difference of E and N is\",E - N)\n",
    "\n",
    "# set symmetric difference\n",
    "print(\"Symmetric difference of E and N is\",E ^ N)"
   ]
  },
  {
   "cell_type": "code",
   "execution_count": 8,
   "metadata": {},
   "outputs": [
    {
     "name": "stdout",
     "output_type": "stream",
     "text": [
      "{'a': 2, 'e': 5, 'i': 3, 'o': 5, 'u': 3}\n"
     ]
    }
   ],
   "source": [
    "# Program to count the number of each vowels\n",
    "\n",
    "# string of vowels\n",
    "vowels = 'aeiou'\n",
    "\n",
    "ip_str = 'Hello, have you tried our tutorial section yet?'\n",
    "\n",
    "# make it suitable for caseless comparisions\n",
    "ip_str = ip_str.casefold()\n",
    "\n",
    "# make a dictionary with each vowel a key and value 0\n",
    "count = {}.fromkeys(vowels,0)\n",
    "\n",
    "# count the vowels\n",
    "for char in ip_str:\n",
    "   if char in count:\n",
    "       count[char] += 1\n",
    "\n",
    "print(count)"
   ]
  },
  {
   "cell_type": "code",
   "execution_count": 9,
   "metadata": {},
   "outputs": [
    {
     "name": "stdout",
     "output_type": "stream",
     "text": [
      "Enter number of rows: 55\n",
      "1 \n",
      "\n",
      "1 2 \n",
      "\n",
      "1 2 3 \n",
      "\n",
      "1 2 3 4 \n",
      "\n",
      "1 2 3 4 5 \n",
      "\n",
      "1 2 3 4 5 6 \n",
      "\n",
      "1 2 3 4 5 6 7 \n",
      "\n",
      "1 2 3 4 5 6 7 8 \n",
      "\n",
      "1 2 3 4 5 6 7 8 9 \n",
      "\n",
      "1 2 3 4 5 6 7 8 9 10 \n",
      "\n",
      "1 2 3 4 5 6 7 8 9 10 11 \n",
      "\n",
      "1 2 3 4 5 6 7 8 9 10 11 12 \n",
      "\n",
      "1 2 3 4 5 6 7 8 9 10 11 12 13 \n",
      "\n",
      "1 2 3 4 5 6 7 8 9 10 11 12 13 14 \n",
      "\n",
      "1 2 3 4 5 6 7 8 9 10 11 12 13 14 15 \n",
      "\n",
      "1 2 3 4 5 6 7 8 9 10 11 12 13 14 15 16 \n",
      "\n",
      "1 2 3 4 5 6 7 8 9 10 11 12 13 14 15 16 17 \n",
      "\n",
      "1 2 3 4 5 6 7 8 9 10 11 12 13 14 15 16 17 18 \n",
      "\n",
      "1 2 3 4 5 6 7 8 9 10 11 12 13 14 15 16 17 18 19 \n",
      "\n",
      "1 2 3 4 5 6 7 8 9 10 11 12 13 14 15 16 17 18 19 20 \n",
      "\n",
      "1 2 3 4 5 6 7 8 9 10 11 12 13 14 15 16 17 18 19 20 21 \n",
      "\n",
      "1 2 3 4 5 6 7 8 9 10 11 12 13 14 15 16 17 18 19 20 21 22 \n",
      "\n",
      "1 2 3 4 5 6 7 8 9 10 11 12 13 14 15 16 17 18 19 20 21 22 23 \n",
      "\n",
      "1 2 3 4 5 6 7 8 9 10 11 12 13 14 15 16 17 18 19 20 21 22 23 24 \n",
      "\n",
      "1 2 3 4 5 6 7 8 9 10 11 12 13 14 15 16 17 18 19 20 21 22 23 24 25 \n",
      "\n",
      "1 2 3 4 5 6 7 8 9 10 11 12 13 14 15 16 17 18 19 20 21 22 23 24 25 26 \n",
      "\n",
      "1 2 3 4 5 6 7 8 9 10 11 12 13 14 15 16 17 18 19 20 21 22 23 24 25 26 27 \n",
      "\n",
      "1 2 3 4 5 6 7 8 9 10 11 12 13 14 15 16 17 18 19 20 21 22 23 24 25 26 27 28 \n",
      "\n",
      "1 2 3 4 5 6 7 8 9 10 11 12 13 14 15 16 17 18 19 20 21 22 23 24 25 26 27 28 29 \n",
      "\n",
      "1 2 3 4 5 6 7 8 9 10 11 12 13 14 15 16 17 18 19 20 21 22 23 24 25 26 27 28 29 30 \n",
      "\n",
      "1 2 3 4 5 6 7 8 9 10 11 12 13 14 15 16 17 18 19 20 21 22 23 24 25 26 27 28 29 30 31 \n",
      "\n",
      "1 2 3 4 5 6 7 8 9 10 11 12 13 14 15 16 17 18 19 20 21 22 23 24 25 26 27 28 29 30 31 32 \n",
      "\n",
      "1 2 3 4 5 6 7 8 9 10 11 12 13 14 15 16 17 18 19 20 21 22 23 24 25 26 27 28 29 30 31 32 33 \n",
      "\n",
      "1 2 3 4 5 6 7 8 9 10 11 12 13 14 15 16 17 18 19 20 21 22 23 24 25 26 27 28 29 30 31 32 33 34 \n",
      "\n",
      "1 2 3 4 5 6 7 8 9 10 11 12 13 14 15 16 17 18 19 20 21 22 23 24 25 26 27 28 29 30 31 32 33 34 35 \n",
      "\n",
      "1 2 3 4 5 6 7 8 9 10 11 12 13 14 15 16 17 18 19 20 21 22 23 24 25 26 27 28 29 30 31 32 33 34 35 36 \n",
      "\n",
      "1 2 3 4 5 6 7 8 9 10 11 12 13 14 15 16 17 18 19 20 21 22 23 24 25 26 27 28 29 30 31 32 33 34 35 36 37 \n",
      "\n",
      "1 2 3 4 5 6 7 8 9 10 11 12 13 14 15 16 17 18 19 20 21 22 23 24 25 26 27 28 29 30 31 32 33 34 35 36 37 38 \n",
      "\n",
      "1 2 3 4 5 6 7 8 9 10 11 12 13 14 15 16 17 18 19 20 21 22 23 24 25 26 27 28 29 30 31 32 33 34 35 36 37 38 39 \n",
      "\n",
      "1 2 3 4 5 6 7 8 9 10 11 12 13 14 15 16 17 18 19 20 21 22 23 24 25 26 27 28 29 30 31 32 33 34 35 36 37 38 39 40 \n",
      "\n",
      "1 2 3 4 5 6 7 8 9 10 11 12 13 14 15 16 17 18 19 20 21 22 23 24 25 26 27 28 29 30 31 32 33 34 35 36 37 38 39 40 41 \n",
      "\n",
      "1 2 3 4 5 6 7 8 9 10 11 12 13 14 15 16 17 18 19 20 21 22 23 24 25 26 27 28 29 30 31 32 33 34 35 36 37 38 39 40 41 42 \n",
      "\n",
      "1 2 3 4 5 6 7 8 9 10 11 12 13 14 15 16 17 18 19 20 21 22 23 24 25 26 27 28 29 30 31 32 33 34 35 36 37 38 39 40 41 42 43 \n",
      "\n",
      "1 2 3 4 5 6 7 8 9 10 11 12 13 14 15 16 17 18 19 20 21 22 23 24 25 26 27 28 29 30 31 32 33 34 35 36 37 38 39 40 41 42 43 44 \n",
      "\n",
      "1 2 3 4 5 6 7 8 9 10 11 12 13 14 15 16 17 18 19 20 21 22 23 24 25 26 27 28 29 30 31 32 33 34 35 36 37 38 39 40 41 42 43 44 45 \n",
      "\n",
      "1 2 3 4 5 6 7 8 9 10 11 12 13 14 15 16 17 18 19 20 21 22 23 24 25 26 27 28 29 30 31 32 33 34 35 36 37 38 39 40 41 42 43 44 45 46 \n",
      "\n",
      "1 2 3 4 5 6 7 8 9 10 11 12 13 14 15 16 17 18 19 20 21 22 23 24 25 26 27 28 29 30 31 32 33 34 35 36 37 38 39 40 41 42 43 44 45 46 47 \n",
      "\n",
      "1 2 3 4 5 6 7 8 9 10 11 12 13 14 15 16 17 18 19 20 21 22 23 24 25 26 27 28 29 30 31 32 33 34 35 36 37 38 39 40 41 42 43 44 45 46 47 48 \n",
      "\n",
      "1 2 3 4 5 6 7 8 9 10 11 12 13 14 15 16 17 18 19 20 21 22 23 24 25 26 27 28 29 30 31 32 33 34 35 36 37 38 39 40 41 42 43 44 45 46 47 48 49 \n",
      "\n",
      "1 2 3 4 5 6 7 8 9 10 11 12 13 14 15 16 17 18 19 20 21 22 23 24 25 26 27 28 29 30 31 32 33 34 35 36 37 38 39 40 41 42 43 44 45 46 47 48 49 50 \n",
      "\n",
      "1 2 3 4 5 6 7 8 9 10 11 12 13 14 15 16 17 18 19 20 21 22 23 24 25 26 27 28 29 30 31 32 33 34 35 36 37 38 39 40 41 42 43 44 45 46 47 48 49 50 51 \n",
      "\n",
      "1 2 3 4 5 6 7 8 9 10 11 12 13 14 15 16 17 18 19 20 21 22 23 24 25 26 27 28 29 30 31 32 33 34 35 36 37 38 39 40 41 42 43 44 45 46 47 48 49 50 51 52 \n",
      "\n",
      "1 2 3 4 5 6 7 8 9 10 11 12 13 14 15 16 17 18 19 20 21 22 23 24 25 26 27 28 29 30 31 32 33 34 35 36 37 38 39 40 41 42 43 44 45 46 47 48 49 50 51 52 53 \n",
      "\n",
      "1 2 3 4 5 6 7 8 9 10 11 12 13 14 15 16 17 18 19 20 21 22 23 24 25 26 27 28 29 30 31 32 33 34 35 36 37 38 39 40 41 42 43 44 45 46 47 48 49 50 51 52 53 54 \n",
      "\n",
      "1 2 3 4 5 6 7 8 9 10 11 12 13 14 15 16 17 18 19 20 21 22 23 24 25 26 27 28 29 30 31 32 33 34 35 36 37 38 39 40 41 42 43 44 45 46 47 48 49 50 51 52 53 54 55 \n",
      "\n"
     ]
    }
   ],
   "source": [
    "rows = int(input(\"Enter number of rows: \"))\n",
    "\n",
    "for i in range(rows):\n",
    "    for j in range(i+1):\n",
    "        print(j+1, end=\" \")\n",
    "    print(\"\\n\")"
   ]
  },
  {
   "cell_type": "code",
   "execution_count": 10,
   "metadata": {},
   "outputs": [
    {
     "name": "stdout",
     "output_type": "stream",
     "text": [
      "Enter number of rows: 3\n",
      "A \n",
      "\n",
      "B B \n",
      "\n",
      "C C C \n",
      "\n"
     ]
    }
   ],
   "source": [
    "rows = int(input(\"Enter number of rows: \"))\n",
    "\n",
    "ascii_value = 65\n",
    "\n",
    "for i in range(rows):\n",
    "    for j in range(i+1):\n",
    "        alphabet = chr(ascii_value)\n",
    "        print(alphabet, end=\" \")\n",
    "    \n",
    "    ascii_value += 1\n",
    "    print(\"\\n\")"
   ]
  },
  {
   "cell_type": "code",
   "execution_count": 11,
   "metadata": {},
   "outputs": [
    {
     "name": "stdout",
     "output_type": "stream",
     "text": [
      "Enter number of rows: 3\n",
      "*  *  *  \n",
      "\n",
      "*  *  \n",
      "\n",
      "*  \n",
      "\n"
     ]
    }
   ],
   "source": [
    "rows = int(input(\"Enter number of rows: \"))\n",
    "\n",
    "for i in range(rows, 0, -1):\n",
    "    for j in range(0, i):\n",
    "        print(\"* \", end=\" \")\n",
    "    \n",
    "    print(\"\\n\")"
   ]
  },
  {
   "cell_type": "code",
   "execution_count": 12,
   "metadata": {},
   "outputs": [
    {
     "name": "stdout",
     "output_type": "stream",
     "text": [
      "Enter number of rows: 3\n",
      "1 2 3 \n",
      "\n",
      "1 2 \n",
      "\n",
      "1 \n",
      "\n"
     ]
    }
   ],
   "source": [
    "rows = int(input(\"Enter number of rows: \"))\n",
    "\n",
    "for i in range(rows, 0, -1):\n",
    "    for j in range(1, i+1):\n",
    "        print(j, end=\" \")\n",
    "    \n",
    "    print(\"\\n\")"
   ]
  },
  {
   "cell_type": "code",
   "execution_count": 13,
   "metadata": {},
   "outputs": [
    {
     "name": "stdout",
     "output_type": "stream",
     "text": [
      "Enter number of rows: 3\n",
      "    * \n",
      "  * * * \n",
      "* * * * * \n"
     ]
    }
   ],
   "source": [
    "rows = int(input(\"Enter number of rows: \"))\n",
    "\n",
    "k = 0\n",
    "\n",
    "for i in range(1, rows+1):\n",
    "    for space in range(1, (rows-i)+1):\n",
    "        print(end=\"  \")\n",
    "   \n",
    "    while k!=(2*i-1):\n",
    "        print(\"* \", end=\"\")\n",
    "        k += 1\n",
    "   \n",
    "    k = 0\n",
    "    print()"
   ]
  },
  {
   "cell_type": "code",
   "execution_count": 14,
   "metadata": {},
   "outputs": [
    {
     "name": "stdout",
     "output_type": "stream",
     "text": [
      "Enter number of rows: 3\n",
      "    1 \n",
      "  2 3 2 \n",
      "3 4 5 4 3 \n"
     ]
    }
   ],
   "source": [
    "rows = int(input(\"Enter number of rows: \"))\n",
    "\n",
    "k = 0\n",
    "count=0\n",
    "count1=0\n",
    "\n",
    "for i in range(1, rows+1):\n",
    "    for space in range(1, (rows-i)+1):\n",
    "        print(\"  \", end=\"\")\n",
    "        count+=1\n",
    "    \n",
    "    while k!=((2*i)-1):\n",
    "        if count<=rows-1:\n",
    "            print(i+k, end=\" \")\n",
    "            count+=1\n",
    "        else:\n",
    "            count1+=1\n",
    "            print(i+k-(2*count1), end=\" \")\n",
    "        k += 1\n",
    "    \n",
    "    count1 = count = k = 0\n",
    "    print()"
   ]
  },
  {
   "cell_type": "code",
   "execution_count": 15,
   "metadata": {},
   "outputs": [
    {
     "name": "stdout",
     "output_type": "stream",
     "text": [
      "Enter number of rows: 3\n",
      "* * * \n",
      "  * \n"
     ]
    }
   ],
   "source": [
    "rows = int(input(\"Enter number of rows: \"))\n",
    "\n",
    "for i in range(rows, 1, -1):\n",
    "    for space in range(0, rows-i):\n",
    "        print(\"  \", end=\"\")\n",
    "    for j in range(i, 2*i-1):\n",
    "        print(\"* \", end=\"\")\n",
    "    for j in range(1, i-1):\n",
    "        print(\"* \", end=\"\")\n",
    "    print()"
   ]
  },
  {
   "cell_type": "code",
   "execution_count": 16,
   "metadata": {},
   "outputs": [
    {
     "name": "stdout",
     "output_type": "stream",
     "text": [
      "Enter number of rows: 3\n",
      "  1 \n",
      " 1 1 \n",
      "1 2 1 \n"
     ]
    }
   ],
   "source": [
    "rows = int(input(\"Enter number of rows: \"))\n",
    "coef = 1\n",
    "\n",
    "for i in range(1, rows+1):\n",
    "    for space in range(1, rows-i+1):\n",
    "        print(\" \",end=\"\")\n",
    "    for j in range(0, i):\n",
    "        if j==0 or i==0:\n",
    "            coef = 1\n",
    "        else:\n",
    "            coef = coef * (i - j)//j\n",
    "        print(coef, end = \" \")\n",
    "    print()"
   ]
  },
  {
   "cell_type": "code",
   "execution_count": 17,
   "metadata": {},
   "outputs": [
    {
     "name": "stdout",
     "output_type": "stream",
     "text": [
      "Enter number of rows: 3\n",
      "1 \n",
      "2 3 \n",
      "4 5 6 \n"
     ]
    }
   ],
   "source": [
    "rows = int(input(\"Enter number of rows: \"))\n",
    "number = 1\n",
    "\n",
    "for i in range(1, rows+1):\n",
    "    for j in range(1, i+1):\n",
    "        print(number, end=\" \")\n",
    "        number += 1\n",
    "    print()"
   ]
  },
  {
   "cell_type": "code",
   "execution_count": 18,
   "metadata": {},
   "outputs": [
    {
     "name": "stdout",
     "output_type": "stream",
     "text": [
      "0 21\n",
      "1 44\n",
      "2 35\n",
      "3 11\n"
     ]
    }
   ],
   "source": [
    "my_list = [21, 44, 35, 11]\n",
    "\n",
    "for index, val in enumerate(my_list):\n",
    "    print(index, val)"
   ]
  },
  {
   "cell_type": "code",
   "execution_count": 19,
   "metadata": {},
   "outputs": [
    {
     "name": "stdout",
     "output_type": "stream",
     "text": [
      "[1, 2, 3, 4, 5]\n",
      "[1, 2]\n",
      "[3, 4, 5]\n",
      "[3, 4]\n",
      "[3, 4]\n",
      "[5, 3, 1]\n",
      "[2, 4]\n"
     ]
    }
   ],
   "source": [
    "my_list = [1, 2, 3, 4, 5]\n",
    "\n",
    "print(my_list[:])\n",
    "\n",
    "print(my_list[:2])\n",
    "\n",
    "print(my_list[2:])\n",
    "\n",
    "print(my_list[2:4])\n",
    "\n",
    "print(my_list[2:4])\n",
    "\n",
    "print(my_list[::-2])\n",
    "\n",
    "print(my_list[1:4:2])"
   ]
  },
  {
   "cell_type": "code",
   "execution_count": 20,
   "metadata": {},
   "outputs": [
    {
     "name": "stdout",
     "output_type": "stream",
     "text": [
      "the list is empty\n"
     ]
    }
   ],
   "source": [
    "my_list = []\n",
    "if not my_list:\n",
    "    print(\"the list is empty\")"
   ]
  },
  {
   "cell_type": "code",
   "execution_count": 21,
   "metadata": {},
   "outputs": [
    {
     "name": "stdout",
     "output_type": "stream",
     "text": [
      "[1, 'a', 3, 4, 5]\n"
     ]
    }
   ],
   "source": [
    "list_1 = [1, 'a']\n",
    "list_2 = [3, 4, 5]\n",
    "\n",
    "list_joined = list_1 + list_2\n",
    "print(list_joined)"
   ]
  },
  {
   "cell_type": "code",
   "execution_count": 22,
   "metadata": {},
   "outputs": [
    {
     "name": "stdout",
     "output_type": "stream",
     "text": [
      "[1, 2, 3, 'a']\n"
     ]
    }
   ],
   "source": [
    "list_1 = [1, 'a']\n",
    "list_2 = [1, 2, 3]\n",
    "\n",
    "list_joined = list(set(list_1 + list_2))\n",
    "print(list_joined)"
   ]
  },
  {
   "cell_type": "code",
   "execution_count": 23,
   "metadata": {},
   "outputs": [
    {
     "name": "stdout",
     "output_type": "stream",
     "text": [
      "<class 'float'>\n",
      "1500.4\n"
     ]
    }
   ],
   "source": [
    "balance_str = \"1500.4\"\n",
    "balance_float = float(balance_str)\n",
    "\n",
    "# print the type\n",
    "print(type(balance_float))\n",
    "\n",
    "# print the value\n",
    "print(balance_float)"
   ]
  },
  {
   "cell_type": "code",
   "execution_count": 24,
   "metadata": {},
   "outputs": [
    {
     "name": "stdout",
     "output_type": "stream",
     "text": [
      "<class 'datetime.datetime'>\n",
      "2011-03-11 11:31:00\n"
     ]
    }
   ],
   "source": [
    "from datetime import datetime\n",
    "\n",
    "my_date_string = \"Mar 11 2011 11:31AM\"\n",
    "\n",
    "datetime_object = datetime.strptime(my_date_string, '%b %d %Y %I:%M%p')\n",
    "\n",
    "print(type(datetime_object))\n",
    "print(datetime_object)"
   ]
  },
  {
   "cell_type": "code",
   "execution_count": 25,
   "metadata": {},
   "outputs": [
    {
     "name": "stdout",
     "output_type": "stream",
     "text": [
      "e\n"
     ]
    }
   ],
   "source": [
    "my_list = ['a', 'b', 'c', 'd', 'e']\n",
    "\n",
    "# print the last element\n",
    "print(my_list[-1])"
   ]
  },
  {
   "cell_type": "code",
   "execution_count": 26,
   "metadata": {},
   "outputs": [
    {
     "name": "stdout",
     "output_type": "stream",
     "text": [
      "love\n",
      "love python.\n",
      "I love python\n"
     ]
    }
   ],
   "source": [
    "my_string = \"I love python.\"\n",
    "\n",
    "# prints \"love\"\n",
    "print(my_string[2:6])\n",
    "\n",
    "# prints \"love python.\"\n",
    "print(my_string[2:])\n",
    "\n",
    "# prints \"I love python\"\n",
    "print(my_string[:-1])"
   ]
  },
  {
   "cell_type": "code",
   "execution_count": 27,
   "metadata": {},
   "outputs": [
    {
     "name": "stdout",
     "output_type": "stream",
     "text": [
      "Python\n",
      "is easy to learn.\n",
      "\n",
      "Python is easy to learn.\n"
     ]
    }
   ],
   "source": [
    "# print each statement on a new line\n",
    "print(\"Python\")\n",
    "print(\"is easy to learn.\")\n",
    "\n",
    "# new line\n",
    "print()\n",
    "\n",
    "# print both the statements on a single line\n",
    "print(\"Python\", end=\" \")\n",
    "print(\"is easy to learn.\")"
   ]
  },
  {
   "cell_type": "code",
   "execution_count": 28,
   "metadata": {},
   "outputs": [
    {
     "name": "stdout",
     "output_type": "stream",
     "text": [
      "c\n"
     ]
    }
   ],
   "source": [
    "import random\n",
    "\n",
    "my_list = [1, 'a', 32, 'c', 'd', 31]\n",
    "print(random.choice(my_list))"
   ]
  },
  {
   "cell_type": "code",
   "execution_count": 29,
   "metadata": {},
   "outputs": [
    {
     "name": "stdout",
     "output_type": "stream",
     "text": [
      "False\n",
      "True\n"
     ]
    }
   ],
   "source": [
    "def isfloat(num):\n",
    "    try:\n",
    "        float(num)\n",
    "        return True\n",
    "    except ValueError:\n",
    "        return False\n",
    "\n",
    "print(isfloat('s12'))\n",
    "print(isfloat('1.123'))"
   ]
  },
  {
   "cell_type": "code",
   "execution_count": 31,
   "metadata": {},
   "outputs": [
    {
     "name": "stdout",
     "output_type": "stream",
     "text": [
      "Python\n"
     ]
    }
   ],
   "source": [
    "my_string = \" Python \"\n",
    "\n",
    "print(my_string.strip())"
   ]
  },
  {
   "cell_type": "code",
   "execution_count": 32,
   "metadata": {},
   "outputs": [
    {
     "name": "stdout",
     "output_type": "stream",
     "text": [
      "Reversed Number: 4321\n"
     ]
    }
   ],
   "source": [
    "num = 1234\n",
    "reversed_num = 0\n",
    "\n",
    "while num != 0:\n",
    "    digit = num % 10\n",
    "    reversed_num = reversed_num * 10 + digit\n",
    "    num //= 10\n",
    "\n",
    "print(\"Reversed Number: \" + str(reversed_num))"
   ]
  },
  {
   "cell_type": "code",
   "execution_count": 33,
   "metadata": {},
   "outputs": [
    {
     "name": "stdout",
     "output_type": "stream",
     "text": [
      "Answer = 81\n"
     ]
    }
   ],
   "source": [
    "base = 3\n",
    "exponent = 4\n",
    "\n",
    "result = 1\n",
    "\n",
    "while exponent != 0:\n",
    "    result *= base\n",
    "    exponent-=1\n",
    "\n",
    "print(\"Answer = \" + str(result))"
   ]
  },
  {
   "cell_type": "code",
   "execution_count": 34,
   "metadata": {},
   "outputs": [
    {
     "name": "stdout",
     "output_type": "stream",
     "text": [
      "Number of digits: 4\n"
     ]
    }
   ],
   "source": [
    "num = 3452\n",
    "count = 0\n",
    "\n",
    "while num != 0:\n",
    "    num //= 10\n",
    "    count += 1\n",
    "\n",
    "print(\"Number of digits: \" + str(count))"
   ]
  },
  {
   "cell_type": "code",
   "execution_count": 35,
   "metadata": {},
   "outputs": [
    {
     "name": "stdout",
     "output_type": "stream",
     "text": [
      "Programiz is lit\n"
     ]
    }
   ],
   "source": [
    "my_string = \"programiz is Lit\"\n",
    "\n",
    "cap_string = my_string.capitalize()\n",
    "\n",
    "print(cap_string)"
   ]
  },
  {
   "cell_type": "code",
   "execution_count": 36,
   "metadata": {},
   "outputs": [
    {
     "name": "stdout",
     "output_type": "stream",
     "text": [
      "[1, 2, 4, 6]\n"
     ]
    }
   ],
   "source": [
    "list_1 = [1, 2, 1, 4, 6]\n",
    "\n",
    "print(list(set(list_1)))"
   ]
  },
  {
   "cell_type": "code",
   "execution_count": 37,
   "metadata": {},
   "outputs": [
    {
     "name": "stdout",
     "output_type": "stream",
     "text": [
      "2\n"
     ]
    }
   ],
   "source": [
    "count = 0\n",
    "\n",
    "my_string = \"Programiz\"\n",
    "my_char = \"r\"\n",
    "\n",
    "for i in my_string:\n",
    "    if i == my_char:\n",
    "        count += 1\n",
    "\n",
    "print(count)"
   ]
  },
  {
   "cell_type": "code",
   "execution_count": null,
   "metadata": {},
   "outputs": [],
   "source": []
  }
 ],
 "metadata": {
  "kernelspec": {
   "display_name": "Python 3",
   "language": "python",
   "name": "python3"
  },
  "language_info": {
   "codemirror_mode": {
    "name": "ipython",
    "version": 3
   },
   "file_extension": ".py",
   "mimetype": "text/x-python",
   "name": "python",
   "nbconvert_exporter": "python",
   "pygments_lexer": "ipython3",
   "version": "3.7.6"
  }
 },
 "nbformat": 4,
 "nbformat_minor": 4
}
